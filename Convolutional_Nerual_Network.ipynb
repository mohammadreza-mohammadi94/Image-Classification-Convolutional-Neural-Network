{
 "cells": [
  {
   "cell_type": "markdown",
   "metadata": {
    "id": "51h_uxSZsPTy"
   },
   "source": [
    "# Convolutional Neural Netwrok (CNN)"
   ]
  },
  {
   "cell_type": "markdown",
   "metadata": {
    "id": "uFIE55nDsLxX"
   },
   "source": [
    "## Libraries"
   ]
  },
  {
   "cell_type": "code",
   "execution_count": 2,
   "metadata": {
    "id": "gz9q2KPZpDOV"
   },
   "outputs": [],
   "source": [
    "import tensorflow as tf\n",
    "from keras.preprocessing.image import ImageDataGenerator"
   ]
  },
  {
   "cell_type": "code",
   "execution_count": 3,
   "metadata": {
    "colab": {
     "base_uri": "https://localhost:8080/"
    },
    "id": "nExNfVLbsUQV",
    "outputId": "faef822d-53fd-437e-83e8-7ce459e0c63f",
    "scrolled": true
   },
   "outputs": [
    {
     "name": "stdout",
     "output_type": "stream",
     "text": [
      "2.9.1\n"
     ]
    }
   ],
   "source": [
    "print(tf.__version__)"
   ]
  },
  {
   "cell_type": "markdown",
   "metadata": {},
   "source": [
    "## 1. Preprocessing - Training Set"
   ]
  },
  {
   "cell_type": "code",
   "execution_count": 4,
   "metadata": {
    "id": "YrbXVcpWsWIk"
   },
   "outputs": [
    {
     "name": "stdout",
     "output_type": "stream",
     "text": [
      "Found 8000 images belonging to 2 classes.\n"
     ]
    }
   ],
   "source": [
    "train_datagen = ImageDataGenerator(rescale = 1./255,\n",
    "                                   shear_range = 0.2,\n",
    "                                   zoom_range = 0.2,\n",
    "                                   horizontal_flip = True)\n",
    "training_set = train_datagen.flow_from_directory('dataset/training_set',\n",
    "                                                 target_size = (64, 64),\n",
    "                                                 batch_size = 32,\n",
    "                                                 class_mode = 'binary')"
   ]
  },
  {
   "cell_type": "markdown",
   "metadata": {},
   "source": [
    "## 2. Preprocessing - Test Set"
   ]
  },
  {
   "cell_type": "code",
   "execution_count": 5,
   "metadata": {},
   "outputs": [
    {
     "name": "stdout",
     "output_type": "stream",
     "text": [
      "Found 2000 images belonging to 2 classes.\n"
     ]
    }
   ],
   "source": [
    "test_datagen = ImageDataGenerator(rescale = 1./255)\n",
    "test_set = test_datagen.flow_from_directory('dataset/test_set',\n",
    "                                            target_size = (64, 64),\n",
    "                                            batch_size = 32,\n",
    "                                            class_mode = 'binary')"
   ]
  },
  {
   "cell_type": "markdown",
   "metadata": {},
   "source": [
    "## 3. Building CNN"
   ]
  },
  {
   "cell_type": "code",
   "execution_count": 6,
   "metadata": {},
   "outputs": [],
   "source": [
    "cnn = tf.keras.models.Sequential()"
   ]
  },
  {
   "cell_type": "markdown",
   "metadata": {},
   "source": [
    "### Convolution"
   ]
  },
  {
   "cell_type": "code",
   "execution_count": 7,
   "metadata": {},
   "outputs": [],
   "source": [
    "cnn.add(tf.keras.layers.Conv2D(filters=32, kernel_size=3, activation='relu', input_shape=[64, 64, 3]))"
   ]
  },
  {
   "cell_type": "markdown",
   "metadata": {},
   "source": [
    "### Pooling"
   ]
  },
  {
   "cell_type": "code",
   "execution_count": 9,
   "metadata": {},
   "outputs": [],
   "source": [
    "cnn.add(tf.keras.layers.MaxPool2D(pool_size=2, strides=2))"
   ]
  },
  {
   "cell_type": "markdown",
   "metadata": {},
   "source": [
    "### Second Convolutional Layer"
   ]
  },
  {
   "cell_type": "code",
   "execution_count": 10,
   "metadata": {},
   "outputs": [],
   "source": [
    "cnn.add(tf.keras.layers.Conv2D(filters=32, kernel_size=3, activation='relu'))\n",
    "cnn.add(tf.keras.layers.MaxPool2D(pool_size=2, strides=2))"
   ]
  },
  {
   "cell_type": "markdown",
   "metadata": {},
   "source": [
    "### Flattening"
   ]
  },
  {
   "cell_type": "code",
   "execution_count": 11,
   "metadata": {},
   "outputs": [],
   "source": [
    "cnn.add(tf.keras.layers.Flatten())"
   ]
  },
  {
   "cell_type": "markdown",
   "metadata": {},
   "source": [
    "### Full Connection "
   ]
  },
  {
   "cell_type": "code",
   "execution_count": 12,
   "metadata": {},
   "outputs": [],
   "source": [
    "cnn.add(tf.keras.layers.Dense(units=128, activation='relu'))"
   ]
  },
  {
   "cell_type": "markdown",
   "metadata": {},
   "source": [
    "### Output Layer"
   ]
  },
  {
   "cell_type": "code",
   "execution_count": 13,
   "metadata": {},
   "outputs": [],
   "source": [
    "cnn.add(tf.keras.layers.Dense(units=1, activation='sigmoid'))"
   ]
  },
  {
   "cell_type": "markdown",
   "metadata": {},
   "source": [
    "### 4. Training CNN"
   ]
  },
  {
   "cell_type": "code",
   "execution_count": 14,
   "metadata": {},
   "outputs": [
    {
     "name": "stdout",
     "output_type": "stream",
     "text": [
      "Epoch 1/25\n",
      "250/250 [==============================] - 82s 325ms/step - loss: 0.6612 - accuracy: 0.5964 - val_loss: 0.6667 - val_accuracy: 0.6105\n",
      "Epoch 2/25\n",
      "250/250 [==============================] - 26s 102ms/step - loss: 0.5904 - accuracy: 0.6913 - val_loss: 0.6240 - val_accuracy: 0.6755\n",
      "Epoch 3/25\n",
      "250/250 [==============================] - 26s 105ms/step - loss: 0.5507 - accuracy: 0.7179 - val_loss: 0.5411 - val_accuracy: 0.7305\n",
      "Epoch 4/25\n",
      "250/250 [==============================] - 25s 101ms/step - loss: 0.5277 - accuracy: 0.7354 - val_loss: 0.4963 - val_accuracy: 0.7700\n",
      "Epoch 5/25\n",
      "250/250 [==============================] - 25s 102ms/step - loss: 0.5209 - accuracy: 0.7385 - val_loss: 0.5209 - val_accuracy: 0.7510\n",
      "Epoch 6/25\n",
      "250/250 [==============================] - 27s 109ms/step - loss: 0.4946 - accuracy: 0.7595 - val_loss: 0.4784 - val_accuracy: 0.7740\n",
      "Epoch 7/25\n",
      "250/250 [==============================] - 26s 104ms/step - loss: 0.4842 - accuracy: 0.7653 - val_loss: 0.4885 - val_accuracy: 0.7640\n",
      "Epoch 8/25\n",
      "250/250 [==============================] - 26s 103ms/step - loss: 0.4750 - accuracy: 0.7719 - val_loss: 0.4683 - val_accuracy: 0.7770\n",
      "Epoch 9/25\n",
      "250/250 [==============================] - 27s 107ms/step - loss: 0.4624 - accuracy: 0.7804 - val_loss: 0.4787 - val_accuracy: 0.7800\n",
      "Epoch 10/25\n",
      "250/250 [==============================] - 26s 103ms/step - loss: 0.4505 - accuracy: 0.7883 - val_loss: 0.4848 - val_accuracy: 0.7625\n",
      "Epoch 11/25\n",
      "250/250 [==============================] - 26s 102ms/step - loss: 0.4439 - accuracy: 0.7896 - val_loss: 0.4905 - val_accuracy: 0.7685\n",
      "Epoch 12/25\n",
      "250/250 [==============================] - 27s 106ms/step - loss: 0.4297 - accuracy: 0.7990 - val_loss: 0.5312 - val_accuracy: 0.7520\n",
      "Epoch 13/25\n",
      "250/250 [==============================] - 27s 107ms/step - loss: 0.4315 - accuracy: 0.8018 - val_loss: 0.5098 - val_accuracy: 0.7590\n",
      "Epoch 14/25\n",
      "250/250 [==============================] - 27s 107ms/step - loss: 0.4167 - accuracy: 0.8043 - val_loss: 0.5423 - val_accuracy: 0.7395\n",
      "Epoch 15/25\n",
      "250/250 [==============================] - 27s 108ms/step - loss: 0.4080 - accuracy: 0.8083 - val_loss: 0.4463 - val_accuracy: 0.7885\n",
      "Epoch 16/25\n",
      "250/250 [==============================] - 26s 104ms/step - loss: 0.4017 - accuracy: 0.8161 - val_loss: 0.4785 - val_accuracy: 0.7885\n",
      "Epoch 17/25\n",
      "250/250 [==============================] - 25s 99ms/step - loss: 0.3974 - accuracy: 0.8204 - val_loss: 0.4804 - val_accuracy: 0.7870\n",
      "Epoch 18/25\n",
      "250/250 [==============================] - 25s 98ms/step - loss: 0.3907 - accuracy: 0.8223 - val_loss: 0.4628 - val_accuracy: 0.7900\n",
      "Epoch 19/25\n",
      "250/250 [==============================] - 23s 92ms/step - loss: 0.3864 - accuracy: 0.8223 - val_loss: 0.5678 - val_accuracy: 0.7515\n",
      "Epoch 20/25\n",
      "250/250 [==============================] - 24s 96ms/step - loss: 0.3815 - accuracy: 0.8246 - val_loss: 0.4650 - val_accuracy: 0.7905\n",
      "Epoch 21/25\n",
      "250/250 [==============================] - 24s 96ms/step - loss: 0.3737 - accuracy: 0.8298 - val_loss: 0.4786 - val_accuracy: 0.7865\n",
      "Epoch 22/25\n",
      "250/250 [==============================] - 24s 98ms/step - loss: 0.3678 - accuracy: 0.8331 - val_loss: 0.4623 - val_accuracy: 0.7995\n",
      "Epoch 23/25\n",
      "250/250 [==============================] - 24s 95ms/step - loss: 0.3494 - accuracy: 0.8399 - val_loss: 0.4904 - val_accuracy: 0.7910\n",
      "Epoch 24/25\n",
      "250/250 [==============================] - 25s 98ms/step - loss: 0.3493 - accuracy: 0.8459 - val_loss: 0.4719 - val_accuracy: 0.8005\n",
      "Epoch 25/25\n",
      "250/250 [==============================] - 26s 103ms/step - loss: 0.3424 - accuracy: 0.8469 - val_loss: 0.4233 - val_accuracy: 0.8085\n"
     ]
    },
    {
     "data": {
      "text/plain": [
       "<keras.callbacks.History at 0x237c64d9bd0>"
      ]
     },
     "execution_count": 14,
     "metadata": {},
     "output_type": "execute_result"
    }
   ],
   "source": [
    "cnn.compile(optimizer = 'adam', loss = 'binary_crossentropy', metrics = ['accuracy'])\n",
    "cnn.fit(x = training_set, validation_data = test_set, epochs = 25)"
   ]
  },
  {
   "cell_type": "code",
   "execution_count": null,
   "metadata": {},
   "outputs": [],
   "source": []
  }
 ],
 "metadata": {
  "colab": {
   "provenance": []
  },
  "kernelspec": {
   "display_name": "Python 3 (ipykernel)",
   "language": "python",
   "name": "python3"
  },
  "language_info": {
   "codemirror_mode": {
    "name": "ipython",
    "version": 3
   },
   "file_extension": ".py",
   "mimetype": "text/x-python",
   "name": "python",
   "nbconvert_exporter": "python",
   "pygments_lexer": "ipython3",
   "version": "3.10.7"
  }
 },
 "nbformat": 4,
 "nbformat_minor": 4
}
